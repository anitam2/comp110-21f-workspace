{
 "cells": [
  {
   "cell_type": "markdown",
   "metadata": {},
   "source": [
    "# Question of Interest: What is the distribution of students by year in COMP 110?"
   ]
  },
  {
   "cell_type": "code",
   "execution_count": 101,
   "metadata": {},
   "outputs": [],
   "source": [
    "%reload_ext autoreload\n",
    "%autoreload 2"
   ]
  },
  {
   "cell_type": "markdown",
   "metadata": {},
   "source": [
    "First, I will read in the csv and convert it to a column-oriented data table."
   ]
  },
  {
   "cell_type": "code",
   "execution_count": 102,
   "metadata": {},
   "outputs": [],
   "source": [
    "from data_utils import read_csv_rows, columnar\n",
    "\n",
    "data_rows: list[dict[str, str]] = read_csv_rows('../../data/survey.csv')\n",
    "columns: dict[str, list[str]] = columnar(data_rows)"
   ]
  },
  {
   "cell_type": "markdown",
   "metadata": {},
   "source": [
    "Then, I will select just the year column and display the first ten rows."
   ]
  },
  {
   "cell_type": "code",
   "execution_count": 103,
   "metadata": {},
   "outputs": [
    {
     "data": {
      "text/plain": [
       "{'year': ['23', '24', '23', '24', '22', '24', '22', '24', '24', '22']}"
      ]
     },
     "execution_count": 103,
     "metadata": {},
     "output_type": "execute_result"
    }
   ],
   "source": [
    "from data_utils import head, select\n",
    "subset: dict[str, list[str]] = select(columns, [\"year\"])\n",
    "head(subset, 10)"
   ]
  },
  {
   "cell_type": "markdown",
   "metadata": {},
   "source": [
    "Next, I will use the max helper function to find the max value in the year section to determine who the youngest students in COMP 110 are. "
   ]
  },
  {
   "cell_type": "code",
   "execution_count": 133,
   "metadata": {},
   "outputs": [
    {
     "name": "stdout",
     "output_type": "stream",
     "text": [
      "The max value of the year section is: 25\n"
     ]
    }
   ],
   "source": [
    "from utils import max\n",
    "\n",
    "max: int = max(subset[\"year\"])\n",
    "print(f\"The max value of the year section is: {max}\")"
   ]
  },
  {
   "cell_type": "markdown",
   "metadata": {},
   "source": [
    "The max function returned the value 25, which means that the youngest students in COMP 110 are freshmen."
   ]
  },
  {
   "cell_type": "markdown",
   "metadata": {},
   "source": [
    "Now, I will count up the totals of each year."
   ]
  },
  {
   "cell_type": "code",
   "execution_count": 123,
   "metadata": {},
   "outputs": [
    {
     "name": "stdout",
     "output_type": "stream",
     "text": [
      "Total Freshmen: 93\n",
      "Total Sophomores: 282\n",
      "Total Juniors: 114\n",
      "Total Seniors: 84\n"
     ]
    }
   ],
   "source": [
    "from data_utils import count\n",
    "counts = count(subset['year'])\n",
    "\n",
    "total_freshmen: int = counts['25']\n",
    "print(f\"Total Freshmen: {total_freshmen}\")\n",
    "total_sophomore: int = counts['24']\n",
    "print(f\"Total Sophomores: {total_sophomore}\")\n",
    "total_juniors: int = counts['23']\n",
    "print(f\"Total Juniors: {total_juniors}\")\n",
    "total_seniors: int = counts['22'] + counts['21']\n",
    "print(f\"Total Seniors: {total_seniors}\")"
   ]
  },
  {
   "cell_type": "markdown",
   "metadata": {},
   "source": [
    "Using the count function, I will count how many times each unique value in year appears. This is an alternative way of counting up the totals of each year."
   ]
  },
  {
   "cell_type": "code",
   "execution_count": 119,
   "metadata": {},
   "outputs": [
    {
     "name": "stdout",
     "output_type": "stream",
     "text": [
      "{'24': 282, '23': 113, '22': 74, '21': 10, '25': 93}\n"
     ]
    }
   ],
   "source": [
    "from dictionaries import count\n",
    "\n",
    "print(count(subset[\"year\"]))"
   ]
  },
  {
   "cell_type": "markdown",
   "metadata": {},
   "source": [
    "Using matplotlib, I will construct a bar graph of the distribution of students (by year) in this class."
   ]
  },
  {
   "cell_type": "code",
   "execution_count": 122,
   "metadata": {},
   "outputs": [
    {
     "data": {
      "image/png": "[encoded data removed]",
      "text/plain": [
       "<Figure size 432x288 with 1 Axes>"
      ]
     },
     "metadata": {
      "needs_background": "light"
     },
     "output_type": "display_data"
    }
   ],
   "source": [
    "import matplotlib.pyplot as plt\n",
    "import numpy as np\n",
    "import matplotlib.pyplot as plt\n",
    "\n",
    "labels = ['Freshman ', 'Sophomore', 'Junior', 'Senior']\n",
    "y_pos = [0, 1, 2, 3]  # the order the labels will be arranged in bar chart\n",
    "performance = [total_freshmen, total_sophomore, total_juniors, total_seniors]\n",
    "\n",
    "plt.bar(y_pos, performance, align='center', alpha=0.5)\n",
    "plt.xticks(y_pos, labels)\n",
    "plt.ylabel('Total number of students')\n",
    "plt.title('Distribution of students in COMP 110')\n",
    "\n",
    "plt.show()"
   ]
  },
  {
   "cell_type": "markdown",
   "metadata": {},
   "source": [
    "Now, I will display the same data using a pie chart with what percentage of students fall into each year."
   ]
  },
  {
   "cell_type": "code",
   "execution_count": null,
   "metadata": {},
   "outputs": [
    {
     "data": {
      "image/png": "[encoded data removed]",
      "text/plain": [
       "<Figure size 432x288 with 1 Axes>"
      ]
     },
     "metadata": {},
     "output_type": "display_data"
    }
   ],
   "source": [
    "labels = 'Freshmen', 'Sophomores', 'Juniors', 'Seniors'\n",
    "sizes = [total_freshmen, total_sophomore, total_juniors, total_seniors]\n",
    "explode = (0, 0.1, 0, 0)\n",
    "\n",
    "fig1, ax1 = plt.subplots()\n",
    "ax1.pie(sizes, explode=explode, labels=labels, autopct='%1.1f%%',\n",
    "        shadow=True, startangle=90)\n",
    "ax1.axis('equal')\n",
    "\n",
    "plt.show()"
   ]
  },
  {
   "cell_type": "markdown",
   "metadata": {},
   "source": [
    "# Conclusion"
   ]
  },
  {
   "cell_type": "markdown",
   "metadata": {},
   "source": [
    "In conclusion, the majority of students taking COMP 110 are sophomores. This may be because even though many students try to take COMP 110 in their first year, they are unable to enroll in it until their sophomore year. The next common is juniors, then freshmen. There are the least of seniors in this class. This finding makes sense as COMP 110 is an introductory level course and most students will have taken it by their senior year."
   ]
  }
 ],
 "metadata": {
  "interpreter": {
   "hash": "aee8b7b246df8f9039afb4144a1f6fd8d2ca17a180786b69acc140d282b71a49"
  },
  "kernelspec": {
   "display_name": "Python 3.9.6 64-bit",
   "language": "python",
   "name": "python3"
  },
  "language_info": {
   "codemirror_mode": {
    "name": "ipython",
    "version": 3
   },
   "file_extension": ".py",
   "mimetype": "text/x-python",
   "name": "python",
   "nbconvert_exporter": "python",
   "pygments_lexer": "ipython3",
   "version": "3.9.6"
  },
  "orig_nbformat": 4
 },
 "nbformat": 4,
 "nbformat_minor": 2
}
